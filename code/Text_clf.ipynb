{
 "cells": [
  {
   "cell_type": "code",
   "execution_count": 1,
   "id": "b2e5dbb7-4783-421a-b664-576d0920a673",
   "metadata": {},
   "outputs": [],
   "source": [
    "import torch\n",
    "import torch.nn as nn\n",
    "import torch.nn.functional as F\n",
    "import numpy as np"
   ]
  },
  {
   "cell_type": "code",
   "execution_count": null,
   "id": "bda5911f-5946-4b65-b6cc-365b75c79874",
   "metadata": {},
   "outputs": [],
   "source": [
    "class Model(nn.Module):\n",
    "    def __init__(self,config):\n",
    "        super(Model, self).__init__()\n",
    "        self.embeding = nn.Embedding(config.n_vocab,#length of vocabulary\n",
    "                                     embed_size,#length of word token\n",
    "                                     padding_idx = config.n_vocab -1)\n",
    "        self.lstm = nn.LSTM(config.embed_size,\n",
    "                            config.hidden_size,\n",
    "                            config.num_layers,\n",
    "                            bidirectiontional = True, batch_first = True,\n",
    "                            dropout = config.dropout)\n",
    "        self.maxpool = nn.MaxPool1d(config.pad_size)\n",
    "        self.fc = nn.Linear(config.hidden_size * 2 + config.embed_size,\n",
    "                            config.num_classes)\n",
    "        self.softmax - nn.Softmax(dim = 1)\n",
    "    \n",
    "    def forward(self,x):\n",
    "        embed = self.embeding(x) # batchsize, seqlen, embed_size\n",
    "        out,_ = self.lstm(embed)\n",
    "        out = torch.cat((embed,out),2)\n",
    "        out = F.relu(out)\n",
    "        out = out.permute(0, 2, 1)\n",
    "        out = self.maxpool(out).squeeze()\n",
    "        out = self.fc(out)\n",
    "        out = self.softmax(x)\n",
    "        return out\n",
    "    "
   ]
  },
  {
   "cell_type": "code",
   "execution_count": null,
   "id": "024c0830-6b81-4a03-81f6-cd4184417dfb",
   "metadata": {},
   "outputs": [],
   "source": [
    "if __name__ = \"__main__\":\n",
    "    model_textcls = Model("
   ]
  }
 ],
 "metadata": {
  "kernelspec": {
   "display_name": "Python 3 (ipykernel)",
   "language": "python",
   "name": "python3"
  },
  "language_info": {
   "codemirror_mode": {
    "name": "ipython",
    "version": 3
   },
   "file_extension": ".py",
   "mimetype": "text/x-python",
   "name": "python",
   "nbconvert_exporter": "python",
   "pygments_lexer": "ipython3",
   "version": "3.10.4"
  }
 },
 "nbformat": 4,
 "nbformat_minor": 5
}
