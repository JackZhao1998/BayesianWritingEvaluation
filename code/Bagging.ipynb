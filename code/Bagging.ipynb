{
 "cells": [
  {
   "cell_type": "code",
   "execution_count": 10,
   "id": "4b56315f-6681-4bca-b00a-49fce9265a34",
   "metadata": {},
   "outputs": [
    {
     "name": "stderr",
     "output_type": "stream",
     "text": [
      "[nltk_data] Downloading package punkt to\n",
      "[nltk_data]     /Users/jackritian/nltk_data...\n",
      "[nltk_data]   Package punkt is already up-to-date!\n",
      "[nltk_data] Downloading package stopwords to\n",
      "[nltk_data]     /Users/jackritian/nltk_data...\n",
      "[nltk_data]   Package stopwords is already up-to-date!\n",
      "[nltk_data] Downloading package wordnet to\n",
      "[nltk_data]     /Users/jackritian/nltk_data...\n",
      "[nltk_data]   Package wordnet is already up-to-date!\n",
      "[nltk_data] Downloading package omw-1.4 to\n",
      "[nltk_data]     /Users/jackritian/nltk_data...\n",
      "[nltk_data]   Package omw-1.4 is already up-to-date!\n"
     ]
    }
   ],
   "source": [
    "#calculation\n",
    "import pandas as pd\n",
    "import numpy as np\n",
    "from scipy import stats\n",
    "import csv\n",
    "import scipy.stats as stats\n",
    "\n",
    "#plot\n",
    "import matplotlib.pyplot as plt\n",
    "import seaborn as sns\n",
    "\n",
    "#MCMC package\n",
    "import pymc3 as pm\n",
    "import theano as T\n",
    "\n",
    "#tokenizer packages\n",
    "import nltk\n",
    "from nltk.corpus import stopwords\n",
    "from nltk.tokenize import word_tokenize\n",
    "from nltk.stem import WordNetLemmatizer\n",
    "from nltk.tokenize import sent_tokenize\n",
    "\n",
    "nltk.download('punkt')\n",
    "nltk.download('stopwords')\n",
    "nltk.download('wordnet')\n",
    "nltk.download('omw-1.4')\n",
    "\n",
    "#Spelling Check\n",
    "from textblob import Word\n",
    "import re"
   ]
  },
  {
   "cell_type": "code",
   "execution_count": 41,
   "id": "813f246b-23ac-43db-9a4f-2c23decb844b",
   "metadata": {},
   "outputs": [],
   "source": [
    "training_tokens = np.load('data/training_tokens.npy')\n",
    "attention_mask = np.load('data/attention_mask.npy')\n",
    "data_df = pd.read_csv('data/train.csv')\n",
    "train_text = data_df['full_text']\n",
    "\n",
    "#dictionary\n",
    "dictionary_df = pd.read_csv('data/new_dictionary.csv')\n",
    "index = dictionary_df['Unnamed: 0'].to_list()\n",
    "dictionary_df = dictionary_df.drop(columns = 'Unnamed: 0')\n",
    "dictionary_df.index = index\n",
    "dictionary_len = dictionary_df.shape[1]\n"
   ]
  },
  {
   "cell_type": "code",
   "execution_count": 67,
   "id": "302207ab-4eae-4276-959e-411209e37ab1",
   "metadata": {},
   "outputs": [],
   "source": [
    "frequency_list = dictionary_df.loc['sample_frequency']\n",
    "dictionary_df.loc['bag_lable']=pd.qcut(frequency_list, q = np.linspace(0,1,11), duplicates = 'drop', labels = [1,2,3,4,5,6,7,8])"
   ]
  },
  {
   "cell_type": "code",
   "execution_count": 69,
   "id": "0db53113-bc78-456f-ba0c-45a4a676b240",
   "metadata": {},
   "outputs": [],
   "source": [
    "dictionary = pd.read_csv('data/dictionary_with_bagging.csv')\n",
    "index = dictionary['Unnamed: 0'].to_list()\n",
    "dictionary = dictionary.drop(columns = 'Unnamed: 0')\n",
    "dictionary.index = index\n",
    "dictionary_len = dictionary.shape[1]"
   ]
  },
  {
   "cell_type": "code",
   "execution_count": 86,
   "id": "e31e453d-8b72-439d-9d53-e59c0b5afcda",
   "metadata": {},
   "outputs": [
    {
     "data": {
      "text/html": [
       "<div>\n",
       "<style scoped>\n",
       "    .dataframe tbody tr th:only-of-type {\n",
       "        vertical-align: middle;\n",
       "    }\n",
       "\n",
       "    .dataframe tbody tr th {\n",
       "        vertical-align: top;\n",
       "    }\n",
       "\n",
       "    .dataframe thead th {\n",
       "        text-align: right;\n",
       "    }\n",
       "</style>\n",
       "<table border=\"1\" class=\"dataframe\">\n",
       "  <thead>\n",
       "    <tr style=\"text-align: right;\">\n",
       "      <th></th>\n",
       "      <th>think</th>\n",
       "      <th>student</th>\n",
       "      <th>would</th>\n",
       "      <th>benefit</th>\n",
       "      <th>learning</th>\n",
       "      <th>home</th>\n",
       "      <th>wont</th>\n",
       "      <th>change</th>\n",
       "      <th>get</th>\n",
       "      <th>early</th>\n",
       "      <th>...</th>\n",
       "      <th>irritate</th>\n",
       "      <th>mist</th>\n",
       "      <th>natalie</th>\n",
       "      <th>boxer</th>\n",
       "      <th>mike</th>\n",
       "      <th>slang</th>\n",
       "      <th>prettiest</th>\n",
       "      <th>classical</th>\n",
       "      <th>nd</th>\n",
       "      <th>dived</th>\n",
       "    </tr>\n",
       "  </thead>\n",
       "  <tbody>\n",
       "    <tr>\n",
       "      <th>position_index</th>\n",
       "      <td>0.000000e+00</td>\n",
       "      <td>1.000000e+00</td>\n",
       "      <td>2.000000e+00</td>\n",
       "      <td>3.000000</td>\n",
       "      <td>4.000000</td>\n",
       "      <td>5.000000e+00</td>\n",
       "      <td>6.00000</td>\n",
       "      <td>7.000000e+00</td>\n",
       "      <td>8.000000e+00</td>\n",
       "      <td>9.000000</td>\n",
       "      <td>...</td>\n",
       "      <td>7559.000000</td>\n",
       "      <td>7560.000000</td>\n",
       "      <td>7561.000000</td>\n",
       "      <td>7562.000000</td>\n",
       "      <td>7563.0000</td>\n",
       "      <td>7564.000000</td>\n",
       "      <td>7565.000000</td>\n",
       "      <td>7566.000000</td>\n",
       "      <td>7567.000000</td>\n",
       "      <td>7568.000000</td>\n",
       "    </tr>\n",
       "    <tr>\n",
       "      <th>word_len</th>\n",
       "      <td>5.000000e+00</td>\n",
       "      <td>7.000000e+00</td>\n",
       "      <td>5.000000e+00</td>\n",
       "      <td>7.000000</td>\n",
       "      <td>8.000000</td>\n",
       "      <td>4.000000e+00</td>\n",
       "      <td>4.00000</td>\n",
       "      <td>6.000000e+00</td>\n",
       "      <td>3.000000e+00</td>\n",
       "      <td>5.000000</td>\n",
       "      <td>...</td>\n",
       "      <td>8.000000</td>\n",
       "      <td>4.000000</td>\n",
       "      <td>7.000000</td>\n",
       "      <td>5.000000</td>\n",
       "      <td>4.0000</td>\n",
       "      <td>5.000000</td>\n",
       "      <td>9.000000</td>\n",
       "      <td>9.000000</td>\n",
       "      <td>2.000000</td>\n",
       "      <td>5.000000</td>\n",
       "    </tr>\n",
       "    <tr>\n",
       "      <th>sample_frequency</th>\n",
       "      <td>6.382000e+03</td>\n",
       "      <td>1.713800e+04</td>\n",
       "      <td>7.154000e+03</td>\n",
       "      <td>1336.000000</td>\n",
       "      <td>1477.000000</td>\n",
       "      <td>3.058000e+03</td>\n",
       "      <td>341.00000</td>\n",
       "      <td>2.770000e+03</td>\n",
       "      <td>8.653000e+03</td>\n",
       "      <td>902.000000</td>\n",
       "      <td>...</td>\n",
       "      <td>1.000000</td>\n",
       "      <td>1.000000</td>\n",
       "      <td>4.000000</td>\n",
       "      <td>1.000000</td>\n",
       "      <td>3.0000</td>\n",
       "      <td>1.000000</td>\n",
       "      <td>1.000000</td>\n",
       "      <td>2.000000</td>\n",
       "      <td>1.000000</td>\n",
       "      <td>1.000000</td>\n",
       "    </tr>\n",
       "    <tr>\n",
       "      <th>importance</th>\n",
       "      <td>1.923036e-12</td>\n",
       "      <td>5.165146e-28</td>\n",
       "      <td>1.466908e-13</td>\n",
       "      <td>0.000039</td>\n",
       "      <td>0.000024</td>\n",
       "      <td>1.247298e-07</td>\n",
       "      <td>0.00107</td>\n",
       "      <td>3.257565e-07</td>\n",
       "      <td>9.916953e-16</td>\n",
       "      <td>0.000165</td>\n",
       "      <td>...</td>\n",
       "      <td>0.003322</td>\n",
       "      <td>0.003322</td>\n",
       "      <td>0.003289</td>\n",
       "      <td>0.003322</td>\n",
       "      <td>0.0033</td>\n",
       "      <td>0.003322</td>\n",
       "      <td>0.003322</td>\n",
       "      <td>0.003311</td>\n",
       "      <td>0.003322</td>\n",
       "      <td>0.003322</td>\n",
       "    </tr>\n",
       "    <tr>\n",
       "      <th>bag_lable</th>\n",
       "      <td>8.000000e+00</td>\n",
       "      <td>8.000000e+00</td>\n",
       "      <td>8.000000e+00</td>\n",
       "      <td>8.000000</td>\n",
       "      <td>8.000000</td>\n",
       "      <td>8.000000e+00</td>\n",
       "      <td>8.00000</td>\n",
       "      <td>8.000000e+00</td>\n",
       "      <td>8.000000e+00</td>\n",
       "      <td>8.000000</td>\n",
       "      <td>...</td>\n",
       "      <td>1.000000</td>\n",
       "      <td>1.000000</td>\n",
       "      <td>3.000000</td>\n",
       "      <td>1.000000</td>\n",
       "      <td>2.0000</td>\n",
       "      <td>1.000000</td>\n",
       "      <td>1.000000</td>\n",
       "      <td>1.000000</td>\n",
       "      <td>1.000000</td>\n",
       "      <td>1.000000</td>\n",
       "    </tr>\n",
       "  </tbody>\n",
       "</table>\n",
       "<p>5 rows × 7569 columns</p>\n",
       "</div>"
      ],
      "text/plain": [
       "                         think       student         would      benefit  \\\n",
       "position_index    0.000000e+00  1.000000e+00  2.000000e+00     3.000000   \n",
       "word_len          5.000000e+00  7.000000e+00  5.000000e+00     7.000000   \n",
       "sample_frequency  6.382000e+03  1.713800e+04  7.154000e+03  1336.000000   \n",
       "importance        1.923036e-12  5.165146e-28  1.466908e-13     0.000039   \n",
       "bag_lable         8.000000e+00  8.000000e+00  8.000000e+00     8.000000   \n",
       "\n",
       "                     learning          home       wont        change  \\\n",
       "position_index       4.000000  5.000000e+00    6.00000  7.000000e+00   \n",
       "word_len             8.000000  4.000000e+00    4.00000  6.000000e+00   \n",
       "sample_frequency  1477.000000  3.058000e+03  341.00000  2.770000e+03   \n",
       "importance           0.000024  1.247298e-07    0.00107  3.257565e-07   \n",
       "bag_lable            8.000000  8.000000e+00    8.00000  8.000000e+00   \n",
       "\n",
       "                           get       early  ...     irritate         mist  \\\n",
       "position_index    8.000000e+00    9.000000  ...  7559.000000  7560.000000   \n",
       "word_len          3.000000e+00    5.000000  ...     8.000000     4.000000   \n",
       "sample_frequency  8.653000e+03  902.000000  ...     1.000000     1.000000   \n",
       "importance        9.916953e-16    0.000165  ...     0.003322     0.003322   \n",
       "bag_lable         8.000000e+00    8.000000  ...     1.000000     1.000000   \n",
       "\n",
       "                      natalie        boxer       mike        slang  \\\n",
       "position_index    7561.000000  7562.000000  7563.0000  7564.000000   \n",
       "word_len             7.000000     5.000000     4.0000     5.000000   \n",
       "sample_frequency     4.000000     1.000000     3.0000     1.000000   \n",
       "importance           0.003289     0.003322     0.0033     0.003322   \n",
       "bag_lable            3.000000     1.000000     2.0000     1.000000   \n",
       "\n",
       "                    prettiest    classical           nd        dived  \n",
       "position_index    7565.000000  7566.000000  7567.000000  7568.000000  \n",
       "word_len             9.000000     9.000000     2.000000     5.000000  \n",
       "sample_frequency     1.000000     2.000000     1.000000     1.000000  \n",
       "importance           0.003322     0.003311     0.003322     0.003322  \n",
       "bag_lable            1.000000     1.000000     1.000000     1.000000  \n",
       "\n",
       "[5 rows x 7569 columns]"
      ]
     },
     "execution_count": 86,
     "metadata": {},
     "output_type": "execute_result"
    }
   ],
   "source": [
    "dictionary_df"
   ]
  },
  {
   "cell_type": "code",
   "execution_count": 49,
   "id": "a2362b95-7414-4335-aff0-e4cd4c15a8fb",
   "metadata": {},
   "outputs": [],
   "source": [
    "last_four = training_tokens[:,-4:]"
   ]
  },
  {
   "cell_type": "code",
   "execution_count": 83,
   "id": "3465ec79-5e6d-4256-a08e-663a19e1847f",
   "metadata": {},
   "outputs": [
    {
     "data": {
      "text/plain": [
       "(3911, 7573)"
      ]
     },
     "execution_count": 83,
     "metadata": {},
     "output_type": "execute_result"
    }
   ],
   "source": [
    "exposure = training_tokens.shape"
   ]
  },
  {
   "cell_type": "code",
   "execution_count": 84,
   "id": "0b9fde59-bbe9-4745-981a-1d260b13ab97",
   "metadata": {},
   "outputs": [],
   "source": [
    "bagging_token = np.zeros((attention_mask.shape[0],8))\n",
    "for i in range(attention_mask.shape[0]):\n",
    "    for j in range(training_tokens.shape[1]-4):\n",
    "        word = dictionary_df.columns[j]\n",
    "        bag_num = dictionary_df[word]['bag_lable']\n",
    "        bagging_token[i,int(bag_num)-1] += training_tokens[i,j]"
   ]
  },
  {
   "cell_type": "code",
   "execution_count": 91,
   "id": "729c5a96-b002-4720-9061-3d0292b964f0",
   "metadata": {},
   "outputs": [
    {
     "data": {
      "text/plain": [
       "(3911, 8)"
      ]
     },
     "execution_count": 91,
     "metadata": {},
     "output_type": "execute_result"
    }
   ],
   "source": [
    "bagging_token.shape"
   ]
  },
  {
   "cell_type": "code",
   "execution_count": 94,
   "id": "4a84cec4-6e69-4607-9eea-fd04704ade58",
   "metadata": {},
   "outputs": [],
   "source": [
    "bagged_training_token = np.column_stack((bagging_token,last_four))"
   ]
  },
  {
   "cell_type": "code",
   "execution_count": 96,
   "id": "9711b198-1a32-4e25-b321-b686cf7752a2",
   "metadata": {},
   "outputs": [],
   "source": [
    "np.save('data/bagged_training_token.npy', bagged_training_token)"
   ]
  }
 ],
 "metadata": {
  "kernelspec": {
   "display_name": "Python 3",
   "language": "python",
   "name": "python3"
  },
  "language_info": {
   "codemirror_mode": {
    "name": "ipython",
    "version": 3
   },
   "file_extension": ".py",
   "mimetype": "text/x-python",
   "name": "python",
   "nbconvert_exporter": "python",
   "pygments_lexer": "ipython3",
   "version": "3.8.8"
  }
 },
 "nbformat": 4,
 "nbformat_minor": 5
}
